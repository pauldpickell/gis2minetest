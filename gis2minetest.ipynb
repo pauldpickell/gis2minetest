{
 "cells": [
  {
   "cell_type": "markdown",
   "metadata": {},
   "source": [
    "# Converting LiDAR data into voxels for use in Minetest worlds"
   ]
  },
  {
   "cell_type": "markdown",
   "metadata": {},
   "source": [
    "## Credit\n",
    "The following notebook was inspired from [James Wooton](https://gist.github.com/quantumjim/2d9ea27d0e0428a537b953ac04d3721b).\n",
    "\n",
    "[Prof. Paul Pickell](https://github.com/pauldpickell) (University of British Columbia) added (October 28, 2021) additional instructions and functionality to change the scale and fill holes in the ground using inverse distance weighting interpolation. Support for additional map layers beyond LiDAR data coming soon.\n",
    "\n",
    "Licensed under [GNU General Public License v3.0](https://www.gnu.org/licenses/gpl-3.0.en.html).\n",
    "\n",
    "## Before you get started\n",
    "- Ensure that you have the packages the following packages installed for python: `pylas`, `numpy`, and `pandas`. You can call `pip install pylas` within your Python IDE, for example.\n",
    "- [Download Minetest](https://www.minetest.net/downloads/). To install, simply extract the contents somewhere that you have read/write access to on your computer (e.g., your user directory on Windows `C:\\Users\\YourUsername\\minetest\\`). Navigate to the `bin` folder, find the `minetest.exe` executable, right-click it and create a shortcut on your desktop or taskbar, then double-click the shortcut to run Minetest.\n",
    "- [Download the csv2terrain mod](https://github.com/quantumjim/csv2terrain/blob/master/README.md). To install, simply extract the contents into your `mods` folder within your Minetest directory. For example, `C:\\Users\\YourUsername\\minetest\\mods\\`. Ensure that the folder is renamed `csv2terrain`. Run Minetest and create a new world with any options then press the `Select Mods` button and you should see `csv2terrain` listed there if the installation was done correctly."
   ]
  },
  {
   "cell_type": "code",
   "execution_count": 133,
   "metadata": {},
   "outputs": [],
   "source": [
    "import pylas\n",
    "import numpy as np\n",
    "import random\n",
    "import pandas as pd\n",
    "import math\n",
    "import datetime"
   ]
  },
  {
   "cell_type": "markdown",
   "metadata": {},
   "source": [
    "Put this notebook in the same folder as your LiDAR data or otherwise indicate the pathname and filename for your data. This file can be in either `.las` or `.laz` format. It is assumed that this LiDAR point cloud has been classified "
   ]
  },
  {
   "cell_type": "code",
   "execution_count": 143,
   "metadata": {},
   "outputs": [],
   "source": [
    "file = 'MKRF_lidar.las'"
   ]
  },
  {
   "cell_type": "markdown",
   "metadata": {},
   "source": [
    "## Map centre\n",
    "Define the centre coordinate of the map. This does not necessarily need to be the centre of the las file, but that is an obvious choice. To find this coordinate, open the las file and calculate the range of the Northings and Eastings, which is usually 1000 or 2000 meters for a typical LiDAR tile. Divide the range by 2 and add that value to the value of the Left extent bound and also to the Bottom extent bound. (Usually LiDAR tiles are square, so you can safely add the same value to the lower bounds of the extent, but you may need to adjust this approach.) \n",
    "\n",
    "The Minetest map that you produce is not necessarily going to be the same extent as the LiDAR tile, so you can place the map centre anywhere you want within the las extent. However, you must ensure that this coordinate is at least `size/2` distance from the true edge of the las extent so that you actually build a full map. This coordinate is also used as the starting place for the player."
   ]
  },
  {
   "cell_type": "code",
   "execution_count": 135,
   "metadata": {},
   "outputs": [],
   "source": [
    "# below for Malcolm Knapp Research Forest\n",
    "coord = (533500,5464500)\n",
    "# below for UBC Campus\n",
    "#coord = (481500,5456500)"
   ]
  },
  {
   "cell_type": "markdown",
   "metadata": {},
   "source": [
    "## Map size\n",
    "Specify the `size` of the output Minetest map. This is the width and length of the map in blocks. Each block corresponds to 1 meter in the point cloud. Thus, this dimension is what will be used to clip a square extent of `size*size` area from the las file centred at `coord`. Increasing this value does not produce smaller voxels, but instead increases the extent of the Minetest map. Each incremental value of `size` results in a squared number of new positions to be created and potentially many more blocks, so be careful about creating large maps as they can take long to process and may crash Minetest when loaded."
   ]
  },
  {
   "cell_type": "code",
   "execution_count": 147,
   "metadata": {},
   "outputs": [],
   "source": [
    "size = 200"
   ]
  },
  {
   "cell_type": "markdown",
   "metadata": {},
   "source": [
    "## Load and preprocess data\n",
    "`get_points()` applies an `x,y` mask to the point cloud defined by the `size` variable above and then retrieves the `x,y,z` coordinates of all points and rescales the `xy` values to `0 to size` and the `z` values to `0 to max(z)`. Normally, we divide the units of the point cloud by 100 to convert from centimeters to meters, which is approximately what is used by Minetest. You can modify this parameter by choosing any value for `scale`:\n",
    "- `scale < 1` causes the Minetest world to expand relative to the player (player shrinks)\n",
    "- `scale = 1` is approximately 1:1 real-world scale\n",
    "- `scale > 1` causes the Minetest world to shrink relative to the player (player expands)\n",
    "\n",
    "**Note that if you choose any value other than 1 you will be modifying the scale of the Minetest map (i.e., creating more or fewer voxels relative to the player's perspective).** This parameter does not modify the map `size`. If `scale < 1`, then more voxels are created (point cloud expands *beyond* the map) and any in excess of `size` are dropped and will not be mapped. If `scale > 1`, then fewer voxels are created (point cloud shrinks *within* the map) within the map and some areas of the map `size` may not be used at all. Modifying `scale` should only be used to explore the point cloud data and visualize how different vozel sizes might impact how features might be represented differently."
   ]
  },
  {
   "cell_type": "code",
   "execution_count": 137,
   "metadata": {},
   "outputs": [],
   "source": [
    "scale = 1"
   ]
  },
  {
   "cell_type": "code",
   "execution_count": 138,
   "metadata": {},
   "outputs": [],
   "source": [
    "def get_points(x0,y0,file,size,scale):\n",
    "    # define scale in terms of units (centimeters)\n",
    "    scale = int(100*scale)\n",
    "    # load in the LiDAR point cloud\n",
    "    cloud = pylas.read(file)\n",
    "    x, y, z = cloud.x.copy(), cloud.y.copy(), cloud.z.copy()\n",
    "    # create a mask using the size variable, the LiDAR point cloud will be clipped by this mask\n",
    "    mask = (x>=x0-size/2) & (x<x0+size/2) & (y>=y0-size/2) & (y<y0+size/2)\n",
    "    # below for creating dataframe to fill missing values\n",
    "    cm = pd.DataFrame(cloud.points[mask])\n",
    "    min_x = min(cm.X)\n",
    "    min_y = min(cm.Y)\n",
    "    min_z = min(cm.Z)\n",
    "    xx = ((cm.X-min_x)/scale).astype(int)\n",
    "    yy = ((cm.Y-min_y)/scale).astype(int)\n",
    "    zz = ((cm.Z-min_z)/scale).astype(int)\n",
    "    c = cm.raw_classification.copy()\n",
    "    xyzc = pd.concat([xx,yy,zz,pd.Series(c)],axis=1)\n",
    "    xyzc = xyzc.rename({'raw_classification': 'C'}, axis='columns')\n",
    "    # remove points with NA for any x, y, z, c value\n",
    "    xyzc = xyzc.dropna(axis=0)\n",
    "    # below for fast creation of existing locations with z values using dictionaries (there may be holes to fill)\n",
    "    height = {}\n",
    "    classification = {}\n",
    "    for point in cloud.points[mask]:\n",
    "        xxx = int((point[0]-min_x)/scale)\n",
    "        yyy = int((point[1]-min_y)/scale)\n",
    "        height[xxx,yyy] = int((point[2]-min_z)/scale)\n",
    "        classification[xxx,yyy] = point[5]\n",
    "    return height,classification,xyzc"
   ]
  },
  {
   "cell_type": "markdown",
   "metadata": {},
   "source": [
    "## Block types\n",
    "Define the block types that you want to associate with the classification values. The typical classification scheme is in the following order:\n",
    "- 0 = unclassified\n",
    "- 1 = unassigned\n",
    "- 2 = ground\n",
    "- 3 = low vegetation\n",
    "- 4 = medium vegetation\n",
    "- 5 = high vegetation\n",
    "- 6 = buildings\n",
    "- anything over 6 is noise or reserved for another class\n",
    "\n",
    "[View all block types (nodes) here.](https://wiki.minetest.net/Games/Minetest_Game/Nodes) \n",
    "\n",
    "It is best to use solid blocks and avoid blocks that might not stack well like plants and fungi. When you find a block type you want to use, enter the `Itemstring` for the block that corresponds to the classification value you want to associate it with. The block types below offer nice contrast between vegetation types, buildings and the ground. If you want to experiment with different configurations, find a good starting location (i.e., `coord`) with some variety and set the map `size` to a smaller value (e.g., between 20 and 50) so that you can quickly try out different block types. You can change the top layer of the ground by specifying an `Itemstring` for `top_layer_of_ground_block`. You must specify at least the first 3 classes in order to generate the terrain. You can specify more classes, but any excess classes specified that are not classified in the las file will be ignored and you will see a warning message."
   ]
  },
  {
   "cell_type": "code",
   "execution_count": 146,
   "metadata": {},
   "outputs": [],
   "source": [
    "block_type = ['air', # 0 = unclassified\n",
    "              'air', # 1 = unassigned\n",
    "              'dirt', # 2 = ground\n",
    "              'acacia_bush_leaves', # 3 = low vegetation\n",
    "              'bush_leaves', # 4 = medium vegetation\n",
    "              'pine_needles', # 5 = high vegetation\n",
    "              'stonebrick', # 6 = buildings\n",
    "              'air', # 7 = placeholder\n",
    "              'air', # 8 = placeholder\n",
    "              'air', # 9 = placeholder\n",
    "              'air', # 10 = placeholder\n",
    "              'air', # 11 = placeholder\n",
    "              'air', # 12 = placeholder\n",
    "              'air', # 13 = placeholder\n",
    "              'air'] # 14 = placeholder, add more beyond this if you want\n",
    "\n",
    "top_layer_of_ground_block = 'dirt_with_grass'"
   ]
  },
  {
   "cell_type": "markdown",
   "metadata": {},
   "source": [
    "## Build and interpolate terrain\n",
    "`get_blocks()` uses `height`, `classification`, and `zyx` to build the `blocks.csv` file that is then used by the [csv2terrain](https://github.com/quantumjim/csv2terrain/blob/master/README.md) Minetest mod to create the map in Minetest. One important role of this function is to fill any \"holes\" that might exist in the terrain. For example, ground returns may be incorrectly classified or the ground may be obstructed by a surface feature. In both of these cases, there will be a \"hole\" in the map because there are no known `z` height values at the given `x,y`. Therefore, inverse distance weighting interpolation is applied to the `x,y` locations that need an interpolated `z` value. Through testing, I have found that `knn=5` nearest neighbours is sufficient, but you can also select any value for `k` below depending on the nature of your input LiDAR point cloud and the classified ground returns."
   ]
  },
  {
   "cell_type": "code",
   "execution_count": 140,
   "metadata": {},
   "outputs": [],
   "source": [
    "knn = 5"
   ]
  },
  {
   "cell_type": "code",
   "execution_count": 141,
   "metadata": {
    "scrolled": true
   },
   "outputs": [],
   "source": [
    "def get_blocks(file,coord,size,scale,knn,block_type,top_layer_of_ground_block):\n",
    "    height,classification,xyzc = get_points(coord[0],coord[1],file,size,scale)    \n",
    "    \n",
    "    # check that the number of defined block_types matches the classes in the las file and that ground points are classified\n",
    "    classes = set(classification.values())\n",
    "    if 2 not in classes:\n",
    "        print(datetime.datetime.now(),\"    Error: No ground points (class=2) found, but expected. Please check that the las file has ground points classified before proceeding. Exiting.\")\n",
    "        return\n",
    "    elif len(list(classes-set([2])))==0:\n",
    "        print(datetime.datetime.now(),\"    Warning: No other classes found in the las file. If you were expecting more classes other than ground returns, then check your classification and try again.\")\n",
    "    \n",
    "    # one layer of dirt for the foundation\n",
    "    blocks = {}\n",
    "    for x in range(size):\n",
    "        for y in range(size):\n",
    "            blocks[x,y,1] = block_type[2]\n",
    "    \n",
    "    # start by first building the terrain from the classified ground points\n",
    "    ground = {key: value for key, value in classification.items() if value == 2}\n",
    "    groundHeight = {k:height[k] for k in ground.keys()}\n",
    "    # matrix to hold the value of the highest ground elevation\n",
    "    terrainHeight = np.zeros((size, size))\n",
    "    # subset where class=2, we only want to interpolate the ground surface, not heights of other classes\n",
    "    xyzc_g = xyzc[xyzc['C']==2]\n",
    "    for x in range(size):\n",
    "        if x % 10 == 0:\n",
    "            print(datetime.datetime.now(),\"    Processing ground (class=2) line \",x,\" of \",size)\n",
    "        for y in range(size):\n",
    "            # these are the x,y with defined z values\n",
    "            if (x,y) in groundHeight:\n",
    "                z = groundHeight[x,y]\n",
    "                for zz in range(1,z+2):\n",
    "                    if zz == z+1:\n",
    "                        # top layer block\n",
    "                        blocks[x,y,zz] = top_layer_of_ground_block\n",
    "                        terrainHeight[x,y] = zz\n",
    "                    else:\n",
    "                        blocks[x,y,zz] = block_type[2]\n",
    "            # these are the holes that will be filled with inverse distance weighting interpolation\n",
    "            else:\n",
    "                # calculate euclidean distance to all points that exist in the point cloud\n",
    "                ed = np.sqrt((float(x)-xyzc_g['X'].astype(float))**2)+np.sqrt((float(y)-xyzc_g['Y'].astype(float))**2)\n",
    "                # find the z values of the k nearest neighbours in class 2 only (ground)\n",
    "                zk = xyzc_g.loc[ed.nsmallest(knn).index,'Z'].astype(float)\n",
    "                # get the squared euclidean distances (add a small value to ensure no 0 in denominator)\n",
    "                sd = (ed.nsmallest(knn)**2)+0.0001\n",
    "                # calculate the inverse distance weighted z value\n",
    "                z = math.ceil((sum((zk/sd))/sum(1/sd)))\n",
    "                # fill the hole up to the new z value\n",
    "                for zz in range(1,z+2):\n",
    "                    if zz == z+1:\n",
    "                        # top layer block\n",
    "                        blocks[x,y,zz] = top_layer_of_ground_block\n",
    "                        terrainHeight[x,y] = zz\n",
    "                    else:\n",
    "                        blocks[x,y,zz] = block_type[2]\n",
    "    \n",
    "    # now start building the classified blocks on top of the terrain\n",
    "    if len(list(classes-set([2])))>0:\n",
    "        for cl in classes:\n",
    "            if cl != 2:\n",
    "                tempclass = {key: value for key, value in classification.items() if value == cl}\n",
    "                classHeight = {k:height[k] for k in tempclass.keys()}\n",
    "                for x in range(size):\n",
    "                    if x % 10 == 0:\n",
    "                        print(datetime.datetime.now(),\"    Processing class=\",cl,\" line \",x,\" of \",size)\n",
    "                    for y in range(size):\n",
    "                        # these are the x,y with defined z values\n",
    "                        if (x,y) in classHeight:\n",
    "                            z = classHeight[x,y]\n",
    "                            for zz in range(int(terrainHeight[x,y])+1,z+2):\n",
    "                                blocks[x,y,zz] = block_type[cl]\n",
    "    \n",
    "    # set the player starting position\n",
    "    max_height = max(height.values())+2\n",
    "    x,y = int(size/2),int(size/2)\n",
    "    if (x,y) in height:\n",
    "        player = x,height[x,y]+2,y\n",
    "    else:\n",
    "        player = x,int(max_height/2),y\n",
    "        \n",
    "    # write out the csv file\n",
    "    print(datetime.datetime.now(),\"    Writing out the blocks.csv file now...\")\n",
    "    with open('blocks.csv','w') as file:\n",
    "        file.write( '0,0,0,min,\\n' )\n",
    "        file.write( str(size)+','+str(max_height)+','+str(size)+','+'max'+',\\n' )\n",
    "        file.write( str(player[0])+','+str(player[1])+','+str(player[2])+','+'player'+',\\n' )\n",
    "        for (x,y,z) in blocks:\n",
    "            file.write( str(x)+','+str(z)+','+str(y)+','+blocks[x,y,z]+',\\n' )"
   ]
  },
  {
   "cell_type": "markdown",
   "metadata": {},
   "source": [
    "## Run the program"
   ]
  },
  {
   "cell_type": "code",
   "execution_count": 148,
   "metadata": {
    "scrolled": true
   },
   "outputs": [
    {
     "name": "stdout",
     "output_type": "stream",
     "text": [
      "2021-10-28 12:11:31.269789     Processing ground (class=2) line  0  of  200\n",
      "2021-10-28 12:11:36.212712     Processing ground (class=2) line  10  of  200\n",
      "2021-10-28 12:11:40.800049     Processing ground (class=2) line  20  of  200\n",
      "2021-10-28 12:11:46.009545     Processing ground (class=2) line  30  of  200\n",
      "2021-10-28 12:11:52.632772     Processing ground (class=2) line  40  of  200\n",
      "2021-10-28 12:11:58.897036     Processing ground (class=2) line  50  of  200\n",
      "2021-10-28 12:12:05.108979     Processing ground (class=2) line  60  of  200\n",
      "2021-10-28 12:12:10.910796     Processing ground (class=2) line  70  of  200\n",
      "2021-10-28 12:12:16.823067     Processing ground (class=2) line  80  of  200\n",
      "2021-10-28 12:12:22.803470     Processing ground (class=2) line  90  of  200\n",
      "2021-10-28 12:12:28.593733     Processing ground (class=2) line  100  of  200\n",
      "2021-10-28 12:12:34.197385     Processing ground (class=2) line  110  of  200\n",
      "2021-10-28 12:12:39.688439     Processing ground (class=2) line  120  of  200\n",
      "2021-10-28 12:12:45.195276     Processing ground (class=2) line  130  of  200\n",
      "2021-10-28 12:12:50.797537     Processing ground (class=2) line  140  of  200\n",
      "2021-10-28 12:12:56.311760     Processing ground (class=2) line  150  of  200\n",
      "2021-10-28 12:13:01.681967     Processing ground (class=2) line  160  of  200\n",
      "2021-10-28 12:13:07.044198     Processing ground (class=2) line  170  of  200\n",
      "2021-10-28 12:13:12.447087     Processing ground (class=2) line  180  of  200\n",
      "2021-10-28 12:13:18.223606     Processing ground (class=2) line  190  of  200\n",
      "2021-10-28 12:13:23.886285     Processing class= 1  line  0  of  200\n",
      "2021-10-28 12:13:23.887282     Processing class= 1  line  10  of  200\n",
      "2021-10-28 12:13:23.887282     Processing class= 1  line  20  of  200\n",
      "2021-10-28 12:13:23.889277     Processing class= 1  line  30  of  200\n",
      "2021-10-28 12:13:23.890275     Processing class= 1  line  40  of  200\n",
      "2021-10-28 12:13:23.891272     Processing class= 1  line  50  of  200\n",
      "2021-10-28 12:13:23.893268     Processing class= 1  line  60  of  200\n",
      "2021-10-28 12:13:23.894264     Processing class= 1  line  70  of  200\n",
      "2021-10-28 12:13:23.895262     Processing class= 1  line  80  of  200\n",
      "2021-10-28 12:13:23.896289     Processing class= 1  line  90  of  200\n",
      "2021-10-28 12:13:23.898253     Processing class= 1  line  100  of  200\n",
      "2021-10-28 12:13:23.899251     Processing class= 1  line  110  of  200\n",
      "2021-10-28 12:13:23.900248     Processing class= 1  line  120  of  200\n",
      "2021-10-28 12:13:23.901276     Processing class= 1  line  130  of  200\n",
      "2021-10-28 12:13:23.902244     Processing class= 1  line  140  of  200\n",
      "2021-10-28 12:13:23.903268     Processing class= 1  line  150  of  200\n",
      "2021-10-28 12:13:23.904268     Processing class= 1  line  160  of  200\n",
      "2021-10-28 12:13:23.906260     Processing class= 1  line  170  of  200\n",
      "2021-10-28 12:13:23.907258     Processing class= 1  line  180  of  200\n",
      "2021-10-28 12:13:23.908255     Processing class= 1  line  190  of  200\n",
      "2021-10-28 12:13:23.917232     Processing class= 3  line  0  of  200\n",
      "2021-10-28 12:13:23.918200     Processing class= 3  line  10  of  200\n",
      "2021-10-28 12:13:23.918200     Processing class= 3  line  20  of  200\n",
      "2021-10-28 12:13:23.919224     Processing class= 3  line  30  of  200\n",
      "2021-10-28 12:13:23.920194     Processing class= 3  line  40  of  200\n",
      "2021-10-28 12:13:23.920194     Processing class= 3  line  50  of  200\n",
      "2021-10-28 12:13:23.921220     Processing class= 3  line  60  of  200\n",
      "2021-10-28 12:13:23.921220     Processing class= 3  line  70  of  200\n",
      "2021-10-28 12:13:23.922233     Processing class= 3  line  80  of  200\n",
      "2021-10-28 12:13:23.922233     Processing class= 3  line  90  of  200\n",
      "2021-10-28 12:13:23.923186     Processing class= 3  line  100  of  200\n",
      "2021-10-28 12:13:23.923186     Processing class= 3  line  110  of  200\n",
      "2021-10-28 12:13:23.924212     Processing class= 3  line  120  of  200\n",
      "2021-10-28 12:13:23.924212     Processing class= 3  line  130  of  200\n",
      "2021-10-28 12:13:23.925211     Processing class= 3  line  140  of  200\n",
      "2021-10-28 12:13:23.926208     Processing class= 3  line  150  of  200\n",
      "2021-10-28 12:13:23.926208     Processing class= 3  line  160  of  200\n",
      "2021-10-28 12:13:23.927204     Processing class= 3  line  170  of  200\n",
      "2021-10-28 12:13:23.927204     Processing class= 3  line  180  of  200\n",
      "2021-10-28 12:13:23.928175     Processing class= 3  line  190  of  200\n",
      "2021-10-28 12:13:23.934202     Processing class= 4  line  0  of  200\n",
      "2021-10-28 12:13:23.934202     Processing class= 4  line  10  of  200\n",
      "2021-10-28 12:13:23.934202     Processing class= 4  line  20  of  200\n",
      "2021-10-28 12:13:23.935154     Processing class= 4  line  30  of  200\n",
      "2021-10-28 12:13:23.936182     Processing class= 4  line  40  of  200\n",
      "2021-10-28 12:13:23.936182     Processing class= 4  line  50  of  200\n",
      "2021-10-28 12:13:23.936182     Processing class= 4  line  60  of  200\n",
      "2021-10-28 12:13:23.937176     Processing class= 4  line  70  of  200\n",
      "2021-10-28 12:13:23.937176     Processing class= 4  line  80  of  200\n",
      "2021-10-28 12:13:23.937176     Processing class= 4  line  90  of  200\n",
      "2021-10-28 12:13:23.937176     Processing class= 4  line  100  of  200\n",
      "2021-10-28 12:13:23.938174     Processing class= 4  line  110  of  200\n",
      "2021-10-28 12:13:23.938174     Processing class= 4  line  120  of  200\n",
      "2021-10-28 12:13:23.938174     Processing class= 4  line  130  of  200\n",
      "2021-10-28 12:13:23.939171     Processing class= 4  line  140  of  200\n",
      "2021-10-28 12:13:23.939171     Processing class= 4  line  150  of  200\n",
      "2021-10-28 12:13:23.940169     Processing class= 4  line  160  of  200\n",
      "2021-10-28 12:13:23.940169     Processing class= 4  line  170  of  200\n",
      "2021-10-28 12:13:23.940169     Processing class= 4  line  180  of  200\n",
      "2021-10-28 12:13:23.941168     Processing class= 4  line  190  of  200\n",
      "2021-10-28 12:13:23.946153     Processing class= 5  line  0  of  200\n",
      "2021-10-28 12:13:23.946153     Processing class= 5  line  10  of  200\n",
      "2021-10-28 12:13:23.947123     Processing class= 5  line  20  of  200\n",
      "2021-10-28 12:13:23.947123     Processing class= 5  line  30  of  200\n",
      "2021-10-28 12:13:23.948120     Processing class= 5  line  40  of  200\n",
      "2021-10-28 12:13:23.949118     Processing class= 5  line  50  of  200\n",
      "2021-10-28 12:13:23.949118     Processing class= 5  line  60  of  200\n",
      "2021-10-28 12:13:23.950114     Processing class= 5  line  70  of  200\n",
      "2021-10-28 12:13:23.951120     Processing class= 5  line  80  of  200\n",
      "2021-10-28 12:13:23.951120     Processing class= 5  line  90  of  200\n",
      "2021-10-28 12:13:23.952112     Processing class= 5  line  100  of  200\n",
      "2021-10-28 12:13:23.953110     Processing class= 5  line  110  of  200\n",
      "2021-10-28 12:13:23.953110     Processing class= 5  line  120  of  200\n",
      "2021-10-28 12:13:23.954107     Processing class= 5  line  130  of  200\n",
      "2021-10-28 12:13:23.955131     Processing class= 5  line  140  of  200\n",
      "2021-10-28 12:13:23.955131     Processing class= 5  line  150  of  200\n",
      "2021-10-28 12:13:23.955131     Processing class= 5  line  160  of  200\n",
      "2021-10-28 12:13:23.956129     Processing class= 5  line  170  of  200\n",
      "2021-10-28 12:13:23.957126     Processing class= 5  line  180  of  200\n",
      "2021-10-28 12:13:23.957126     Processing class= 5  line  190  of  200\n",
      "2021-10-28 12:13:23.960118     Writing out the blocks.csv file now...\n"
     ]
    }
   ],
   "source": [
    "get_blocks(file,coord,size,scale,knn,block_type,top_layer_of_ground_block)"
   ]
  },
  {
   "cell_type": "markdown",
   "metadata": {},
   "source": [
    "## Load the map in Minetest\n",
    "1. Make sure that you have installed the `csv2terrain` mod in Minetest. See instructions above for download and installation.\n",
    "2. Once the `blocks.csv` file has been generated, copy the csv file to the `\\Minetest\\mods\\csv2terrain\\`. Then, run Minetest and create a new world. Ensure that the `Mapgen` mode is set to `singlenode`, which will generate an empty world with only air blocks (called [\"nodes\"](https://wiki.minetest.net/Games/Minetest_Game/Nodes) in Minetest). You do not need to provide a seed and make sure `Minetest game` is selected under `Game`. Press the `Create` button to generate the world.\n",
    "3. Once you are redirected back to the main menu, select your world from the `Select World:` menu. For the best experience, I suggest toggling on `Creative Mode` and toggling off `Enable Damage`. Click the `Select Mods` button and here you should see the `csv2terrain` mod if it was installed correctly. Double-click `csv2terrain` and the text will turn green if it has been enabled properly. Press the `Save` button.\n",
    "4. Click the `Play Game` button. The player should be falling through the air. Press the `/` key to bring up the console. Type `ltbv` (short for: Let There Be Voxels). Be patient as the Minetest world is being generated from the blocks.csv file. If all goes well, you should land on top of the newly built terrain and you can start navigating in the approximate real-life experience using the arrow keys (or `wasd` keys) and `spacebar` to jump.\n",
    "\n",
    "## Tips and controls\n",
    "- Press the `/` key and type `grant singleplayer all` into the console to give the player all game privileges.\n",
    "- Press the `k` key (default) to enable flying, then press the `spacebar` key to fly up and press `shift` to fly down. Press the `k` key again to disable flying.\n",
    "- Press the `j` key (default) to enable fast mode, which allows you to move/fly quickly around the world and change perspectives. Press the `j` key again to disable fast mode.\n",
    "- Press the `/` key and type `time 6000` to change the time of day to 6AM causing the Sun to rise. Increments of 1000 are equivalent to hours in 24-hour time (e.g., 18000 is 6PM).\n",
    "- Press the `I` key to access the inventory of blocks (nodes) in creative mode. Drag blocks into your inventory space at the bottom. `Right-click` on your mouse (default) to place blocks. `Left-click` on your mouse (default) to mine or remove blocks. Press `B` and `N` keys to move left and right, respectively, in your hotbar inventory of blocks.\n",
    "- North in the Minetest world is true North. The Sun rises in the true East and sets in the true West.\n",
    "- The origin of the map `(0,0)` is located in the Northwestern corner with Eastings ascending towards the rising Sun in the East `(size,0)` and Northings ascending in the Southern direction `(0,size)`."
   ]
  }
 ],
 "metadata": {
  "kernelspec": {
   "display_name": "Python 3",
   "language": "python",
   "name": "python3"
  },
  "language_info": {
   "codemirror_mode": {
    "name": "ipython",
    "version": 3
   },
   "file_extension": ".py",
   "mimetype": "text/x-python",
   "name": "python",
   "nbconvert_exporter": "python",
   "pygments_lexer": "ipython3",
   "version": "3.8.8"
  }
 },
 "nbformat": 4,
 "nbformat_minor": 4
}
